{
 "cells": [
  {
   "cell_type": "markdown",
   "id": "3e7dc82d",
   "metadata": {
    "papermill": {
     "duration": 0.037991,
     "end_time": "2022-02-12T10:18:10.065962",
     "exception": false,
     "start_time": "2022-02-12T10:18:10.027971",
     "status": "completed"
    },
    "tags": []
   },
   "source": [
    "Ak - 2/5/2022 - The purpose of this notebook is to test out the submission flow for the competition. \n",
    "\n",
    "I will be making changes here and logging the changes\n",
    "\n",
    "Questions I want to answer:\n",
    "1) Why train with 90% data and validate 10%?? Why not 75/25??\n",
    "\n",
    "2) Train using k-fold - try this out, i have abishek's older notebook which uses kfold training. I need to try.\n",
    "\n",
    "3) Tensorflow vs Pytorch vs Keras??\n",
    "\n",
    "4) Longformer paper https://arxiv.org/pdf/2004.05150v2.pdf\n",
    "\n"
   ]
  },
  {
   "cell_type": "markdown",
   "id": "a97c7d8b",
   "metadata": {
    "papermill": {
     "duration": 0.036747,
     "end_time": "2022-02-12T10:18:10.140387",
     "exception": false,
     "start_time": "2022-02-12T10:18:10.103640",
     "status": "completed"
    },
    "tags": []
   },
   "source": [
    "# TensorFlow LongFormer NER Baseline - CV 0.633!\n",
    "\n",
    "This notebook is a TensorFlow starter notebook for Kaggle's \"Feedback Prize - Evaluating Student Writing\" Competition. Currently this notebook uses\n",
    "* backbone LongFormer\n",
    "* NER formulation\n",
    "* one fold\n",
    "\n",
    "With simple changes, we can convert this notebook into Question Answer formulation and we can try different backbones. Furthermore this notebook is one fold. It trains with 90% data and validates on 10% data. We can convert this notebook to K-fold or train with 100% data for boost in LB.\n",
    "\n",
    "The transformer model LongFormer is explained [here][1]. It is similar to Roberta but can accept inputs as wide as 4096 tokens! In this notebook we feed the transformer with 1024 wide tokens. HuggingFace user AllenAI uploaded pretrained weights for us [here][2]. Kaggle discussion about this starter notebook is [here][4]\n",
    "\n",
    "# PyTorch BigBird NER Baseline - CV 0.615\n",
    "I published a PyTorch starter notebook [here][3] that uses BigBird backbone. BigBird is another recent SOTA transformer that accomodates tokens as wide as 4096. Unfortunately there are not pretrained BigBird weights for TensorFlow-Keras. \n",
    "\n",
    "TensorFlow users can benefit from reading the PyTorch starter because the PyTorch encodes the targets differently. It uses the `predictionstring` column and `is_split_into_words=True` during tokenization. It also demonstrates how to use a dataloader which is needed if you want to experiment with data augmentation. Because each epoch, we must tokenize the text again after modifying the train text.\n",
    "\n",
    "[1]: https://huggingface.co/docs/transformers/model_doc/longformer\n",
    "[2]: https://huggingface.co/allenai/longformer-base-4096\n",
    "[3]: https://www.kaggle.com/cdeotte/pytorch-bigbird-ner-cv-0-615\n",
    "[4]: https://www.kaggle.com/c/feedback-prize-2021/discussion/295794"
   ]
  },
  {
   "cell_type": "markdown",
   "id": "08630f68",
   "metadata": {
    "papermill": {
     "duration": 0.036055,
     "end_time": "2022-02-12T10:18:10.213002",
     "exception": false,
     "start_time": "2022-02-12T10:18:10.176947",
     "status": "completed"
    },
    "tags": []
   },
   "source": [
    "# Configuration\n",
    "This notebook can either train a new model or load a previously trained model (made from previous notebook version). Furthermore, this notebook can either create new NER tokens or load existing tokens (made from previous notebook version). In this notebook version, we will load model and load NER tokens. \n",
    "\n",
    "Also this notebook can load huggingface stuff (like tokenizers) from a Kaggle dataset, or download it from internet. (If it downloads from internet, you can then put it in a Kaggle dataset, so next time you can turn internet off)."
   ]
  },
  {
   "cell_type": "code",
   "execution_count": 1,
   "id": "d51f3e32",
   "metadata": {
    "execution": {
     "iopub.execute_input": "2022-02-12T10:18:10.295585Z",
     "iopub.status.busy": "2022-02-12T10:18:10.293543Z",
     "iopub.status.idle": "2022-02-12T10:18:10.308544Z",
     "shell.execute_reply": "2022-02-12T10:18:10.307835Z",
     "shell.execute_reply.started": "2022-02-12T08:37:32.428263Z"
    },
    "papermill": {
     "duration": 0.058266,
     "end_time": "2022-02-12T10:18:10.308710",
     "exception": false,
     "start_time": "2022-02-12T10:18:10.250444",
     "status": "completed"
    },
    "tags": []
   },
   "outputs": [],
   "source": [
    "import os\n",
    "# DECLARE HOW MANY GPUS YOU WISH TO USE. \n",
    "# KAGGLE ONLY HAS 1, BUT OFFLINE, YOU CAN USE MORE\n",
    "os.environ[\"CUDA_VISIBLE_DEVICES\"]=\"0\" #0,1,2,3 for four gpu\n",
    "\n",
    "# VERSION FOR SAVING/LOADING MODEL WEIGHTS\n",
    "# THIS SHOULD MATCH THE MODEL IN LOAD_MODEL_FROM\n",
    "VER=14 \n",
    "\n",
    "# IF VARIABLE IS NONE, THEN NOTEBOOK COMPUTES TOKENS\n",
    "# OTHERWISE NOTEBOOK LOADS TOKENS FROM PATH\n",
    "LOAD_TOKENS_FROM = '../input/tf-longformer-v12'\n",
    "\n",
    "# IF VARIABLE IS NONE, THEN NOTEBOOK TRAINS A NEW MODEL\n",
    "# OTHERWISE IT LOADS YOUR PREVIOUSLY TRAINED MODEL\n",
    "LOAD_MODEL_FROM = '../input/tflongformerv14'\n",
    "\n",
    "# IF FOLLOWING IS NONE, THEN NOTEBOOK \n",
    "# USES INTERNET AND DOWNLOADS HUGGINGFACE \n",
    "# CONFIG, TOKENIZER, AND MODEL\n",
    "DOWNLOADED_MODEL_PATH = '../input/tf-longformer-v12'\n",
    "\n",
    "if DOWNLOADED_MODEL_PATH is None:\n",
    "    DOWNLOADED_MODEL_PATH = 'model'    \n",
    "MODEL_NAME = 'allenai/longformer-base-4096'"
   ]
  },
  {
   "cell_type": "markdown",
   "id": "0de56903",
   "metadata": {
    "papermill": {
     "duration": 0.037701,
     "end_time": "2022-02-12T10:18:10.382876",
     "exception": false,
     "start_time": "2022-02-12T10:18:10.345175",
     "status": "completed"
    },
    "tags": []
   },
   "source": [
    "# How To Submit TensorFlow Without Internet\n",
    "Many people ask me, how do I submit TensorFlow models without internet? With HuggingFace Transformer, it's easy. Just download the following 3 things (1) model weights, (2) tokenizer files, (3) config file, and upload them to a Kaggle dataset. Below shows code how to get the files from HuggingFace for AllenAI's model `longformer-base`. But this same code can download any transformer, like for example `roberta-base`."
   ]
  },
  {
   "cell_type": "code",
   "execution_count": 2,
   "id": "f2eec7d4",
   "metadata": {
    "execution": {
     "iopub.execute_input": "2022-02-12T10:18:10.463019Z",
     "iopub.status.busy": "2022-02-12T10:18:10.461912Z",
     "iopub.status.idle": "2022-02-12T10:18:10.464044Z",
     "shell.execute_reply": "2022-02-12T10:18:10.464719Z",
     "shell.execute_reply.started": "2022-02-12T08:37:32.457900Z"
    },
    "papermill": {
     "duration": 0.045593,
     "end_time": "2022-02-12T10:18:10.464892",
     "exception": false,
     "start_time": "2022-02-12T10:18:10.419299",
     "status": "completed"
    },
    "tags": []
   },
   "outputs": [],
   "source": [
    "if DOWNLOADED_MODEL_PATH == 'model':\n",
    "    os.mkdir('model')\n",
    "    \n",
    "    tokenizer = AutoTokenizer.from_pretrained(MODEL_NAME)\n",
    "    tokenizer.save_pretrained('model')\n",
    "\n",
    "    config = AutoConfig.from_pretrained(MODEL_NAME) \n",
    "    config.save_pretrained('model')\n",
    "\n",
    "    backbone = TFAutoModel.from_pretrained(MODEL_NAME, config=config)\n",
    "    backbone.save_pretrained('model')"
   ]
  },
  {
   "cell_type": "markdown",
   "id": "a8223f09",
   "metadata": {
    "papermill": {
     "duration": 0.037322,
     "end_time": "2022-02-12T10:18:10.538576",
     "exception": false,
     "start_time": "2022-02-12T10:18:10.501254",
     "status": "completed"
    },
    "tags": []
   },
   "source": [
    "The above saves the files\n",
    "* TOKENIZER FILES - merges.txt, tokenizer_config.json, special_tokens_map.json, tokenizer.json, vocab.json\n",
    "* CONFIG FILE - config.json\n",
    "* MODEL WEIGHT FILE - tf_model.h5\n",
    "\n",
    "Then just upload all these files to a Kaggle dataset, like what I did [here][1]. Then you load them into your notebook like the notebook you are reading. And we can turn internet off!\n",
    "\n",
    "[1]: https://www.kaggle.com/cdeotte/tf-longformer-v12"
   ]
  },
  {
   "cell_type": "markdown",
   "id": "d9097661",
   "metadata": {
    "papermill": {
     "duration": 0.035672,
     "end_time": "2022-02-12T10:18:10.610840",
     "exception": false,
     "start_time": "2022-02-12T10:18:10.575168",
     "status": "completed"
    },
    "tags": []
   },
   "source": [
    "# Load Libraries"
   ]
  },
  {
   "cell_type": "code",
   "execution_count": 3,
   "id": "f4c98148",
   "metadata": {
    "execution": {
     "iopub.execute_input": "2022-02-12T10:18:10.689205Z",
     "iopub.status.busy": "2022-02-12T10:18:10.688539Z",
     "iopub.status.idle": "2022-02-12T10:18:23.517934Z",
     "shell.execute_reply": "2022-02-12T10:18:23.518770Z",
     "shell.execute_reply.started": "2022-02-12T08:37:32.464894Z"
    },
    "papermill": {
     "duration": 12.872125,
     "end_time": "2022-02-12T10:18:23.519031",
     "exception": false,
     "start_time": "2022-02-12T10:18:10.646906",
     "status": "completed"
    },
    "tags": []
   },
   "outputs": [
    {
     "name": "stdout",
     "output_type": "stream",
     "text": [
      "TF version 2.6.2\n"
     ]
    }
   ],
   "source": [
    "import pandas as pd, numpy as np\n",
    "import matplotlib.pyplot as plt\n",
    "import tensorflow as tf\n",
    "os.environ['TF_CPP_MIN_LOG_LEVEL'] = '3'\n",
    "from transformers import *\n",
    "print('TF version',tf.__version__)"
   ]
  },
  {
   "cell_type": "code",
   "execution_count": 4,
   "id": "23ca15b0",
   "metadata": {
    "execution": {
     "iopub.execute_input": "2022-02-12T10:18:23.609692Z",
     "iopub.status.busy": "2022-02-12T10:18:23.608773Z",
     "iopub.status.idle": "2022-02-12T10:18:23.621527Z",
     "shell.execute_reply": "2022-02-12T10:18:23.622161Z",
     "shell.execute_reply.started": "2022-02-12T08:37:43.214542Z"
    },
    "papermill": {
     "duration": 0.057264,
     "end_time": "2022-02-12T10:18:23.622365",
     "exception": false,
     "start_time": "2022-02-12T10:18:23.565101",
     "status": "completed"
    },
    "tags": []
   },
   "outputs": [
    {
     "name": "stdout",
     "output_type": "stream",
     "text": [
      "single strategy\n"
     ]
    }
   ],
   "source": [
    "# USE MULTIPLE GPUS\n",
    "if os.environ[\"CUDA_VISIBLE_DEVICES\"].count(',') == 0:\n",
    "    strategy = tf.distribute.get_strategy()\n",
    "    print('single strategy')\n",
    "else:\n",
    "    strategy = tf.distribute.MirroredStrategy()\n",
    "    print('multiple strategy')"
   ]
  },
  {
   "cell_type": "code",
   "execution_count": 5,
   "id": "4dc7adeb",
   "metadata": {
    "execution": {
     "iopub.execute_input": "2022-02-12T10:18:23.708042Z",
     "iopub.status.busy": "2022-02-12T10:18:23.707001Z",
     "iopub.status.idle": "2022-02-12T10:18:23.711212Z",
     "shell.execute_reply": "2022-02-12T10:18:23.711775Z",
     "shell.execute_reply.started": "2022-02-12T08:37:43.233141Z"
    },
    "papermill": {
     "duration": 0.050418,
     "end_time": "2022-02-12T10:18:23.711996",
     "exception": false,
     "start_time": "2022-02-12T10:18:23.661578",
     "status": "completed"
    },
    "tags": []
   },
   "outputs": [
    {
     "name": "stdout",
     "output_type": "stream",
     "text": [
      "Mixed precision enabled\n"
     ]
    }
   ],
   "source": [
    "tf.config.optimizer.set_experimental_options({\"auto_mixed_precision\": True})\n",
    "print('Mixed precision enabled')"
   ]
  },
  {
   "cell_type": "markdown",
   "id": "983a9050",
   "metadata": {
    "papermill": {
     "duration": 0.038508,
     "end_time": "2022-02-12T10:18:23.789519",
     "exception": false,
     "start_time": "2022-02-12T10:18:23.751011",
     "status": "completed"
    },
    "tags": []
   },
   "source": [
    "# Load Train"
   ]
  },
  {
   "cell_type": "code",
   "execution_count": 6,
   "id": "c7052606",
   "metadata": {
    "execution": {
     "iopub.execute_input": "2022-02-12T10:18:23.871901Z",
     "iopub.status.busy": "2022-02-12T10:18:23.871141Z",
     "iopub.status.idle": "2022-02-12T10:18:25.720171Z",
     "shell.execute_reply": "2022-02-12T10:18:25.720713Z",
     "shell.execute_reply.started": "2022-02-12T08:37:46.258233Z"
    },
    "papermill": {
     "duration": 1.893732,
     "end_time": "2022-02-12T10:18:25.720886",
     "exception": false,
     "start_time": "2022-02-12T10:18:23.827154",
     "status": "completed"
    },
    "tags": []
   },
   "outputs": [
    {
     "name": "stdout",
     "output_type": "stream",
     "text": [
      "(144293, 8)\n"
     ]
    },
    {
     "data": {
      "text/html": [
       "<div>\n",
       "<style scoped>\n",
       "    .dataframe tbody tr th:only-of-type {\n",
       "        vertical-align: middle;\n",
       "    }\n",
       "\n",
       "    .dataframe tbody tr th {\n",
       "        vertical-align: top;\n",
       "    }\n",
       "\n",
       "    .dataframe thead th {\n",
       "        text-align: right;\n",
       "    }\n",
       "</style>\n",
       "<table border=\"1\" class=\"dataframe\">\n",
       "  <thead>\n",
       "    <tr style=\"text-align: right;\">\n",
       "      <th></th>\n",
       "      <th>id</th>\n",
       "      <th>discourse_id</th>\n",
       "      <th>discourse_start</th>\n",
       "      <th>discourse_end</th>\n",
       "      <th>discourse_text</th>\n",
       "      <th>discourse_type</th>\n",
       "      <th>discourse_type_num</th>\n",
       "      <th>predictionstring</th>\n",
       "    </tr>\n",
       "  </thead>\n",
       "  <tbody>\n",
       "    <tr>\n",
       "      <th>0</th>\n",
       "      <td>423A1CA112E2</td>\n",
       "      <td>1.622628e+12</td>\n",
       "      <td>8.0</td>\n",
       "      <td>229.0</td>\n",
       "      <td>Modern humans today are always on their phone....</td>\n",
       "      <td>Lead</td>\n",
       "      <td>Lead 1</td>\n",
       "      <td>1 2 3 4 5 6 7 8 9 10 11 12 13 14 15 16 17 18 1...</td>\n",
       "    </tr>\n",
       "    <tr>\n",
       "      <th>1</th>\n",
       "      <td>423A1CA112E2</td>\n",
       "      <td>1.622628e+12</td>\n",
       "      <td>230.0</td>\n",
       "      <td>312.0</td>\n",
       "      <td>They are some really bad consequences when stu...</td>\n",
       "      <td>Position</td>\n",
       "      <td>Position 1</td>\n",
       "      <td>45 46 47 48 49 50 51 52 53 54 55 56 57 58 59</td>\n",
       "    </tr>\n",
       "    <tr>\n",
       "      <th>2</th>\n",
       "      <td>423A1CA112E2</td>\n",
       "      <td>1.622628e+12</td>\n",
       "      <td>313.0</td>\n",
       "      <td>401.0</td>\n",
       "      <td>Some certain areas in the United States ban ph...</td>\n",
       "      <td>Evidence</td>\n",
       "      <td>Evidence 1</td>\n",
       "      <td>60 61 62 63 64 65 66 67 68 69 70 71 72 73 74 75</td>\n",
       "    </tr>\n",
       "    <tr>\n",
       "      <th>3</th>\n",
       "      <td>423A1CA112E2</td>\n",
       "      <td>1.622628e+12</td>\n",
       "      <td>402.0</td>\n",
       "      <td>758.0</td>\n",
       "      <td>When people have phones, they know about certa...</td>\n",
       "      <td>Evidence</td>\n",
       "      <td>Evidence 2</td>\n",
       "      <td>76 77 78 79 80 81 82 83 84 85 86 87 88 89 90 9...</td>\n",
       "    </tr>\n",
       "    <tr>\n",
       "      <th>4</th>\n",
       "      <td>423A1CA112E2</td>\n",
       "      <td>1.622628e+12</td>\n",
       "      <td>759.0</td>\n",
       "      <td>886.0</td>\n",
       "      <td>Driving is one of the way how to get around. P...</td>\n",
       "      <td>Claim</td>\n",
       "      <td>Claim 1</td>\n",
       "      <td>139 140 141 142 143 144 145 146 147 148 149 15...</td>\n",
       "    </tr>\n",
       "  </tbody>\n",
       "</table>\n",
       "</div>"
      ],
      "text/plain": [
       "             id  discourse_id  discourse_start  discourse_end  \\\n",
       "0  423A1CA112E2  1.622628e+12              8.0          229.0   \n",
       "1  423A1CA112E2  1.622628e+12            230.0          312.0   \n",
       "2  423A1CA112E2  1.622628e+12            313.0          401.0   \n",
       "3  423A1CA112E2  1.622628e+12            402.0          758.0   \n",
       "4  423A1CA112E2  1.622628e+12            759.0          886.0   \n",
       "\n",
       "                                      discourse_text discourse_type  \\\n",
       "0  Modern humans today are always on their phone....           Lead   \n",
       "1  They are some really bad consequences when stu...       Position   \n",
       "2  Some certain areas in the United States ban ph...       Evidence   \n",
       "3  When people have phones, they know about certa...       Evidence   \n",
       "4  Driving is one of the way how to get around. P...          Claim   \n",
       "\n",
       "  discourse_type_num                                   predictionstring  \n",
       "0             Lead 1  1 2 3 4 5 6 7 8 9 10 11 12 13 14 15 16 17 18 1...  \n",
       "1         Position 1       45 46 47 48 49 50 51 52 53 54 55 56 57 58 59  \n",
       "2         Evidence 1    60 61 62 63 64 65 66 67 68 69 70 71 72 73 74 75  \n",
       "3         Evidence 2  76 77 78 79 80 81 82 83 84 85 86 87 88 89 90 9...  \n",
       "4            Claim 1  139 140 141 142 143 144 145 146 147 148 149 15...  "
      ]
     },
     "execution_count": 6,
     "metadata": {},
     "output_type": "execute_result"
    }
   ],
   "source": [
    "train = pd.read_csv('../input/feedback-prize-2021/train.csv')\n",
    "print( train.shape )\n",
    "train.head()"
   ]
  },
  {
   "cell_type": "code",
   "execution_count": 7,
   "id": "5c6770f6",
   "metadata": {
    "execution": {
     "iopub.execute_input": "2022-02-12T10:18:25.819165Z",
     "iopub.status.busy": "2022-02-12T10:18:25.818139Z",
     "iopub.status.idle": "2022-02-12T10:18:25.827461Z",
     "shell.execute_reply": "2022-02-12T10:18:25.828049Z",
     "shell.execute_reply.started": "2022-02-12T08:38:12.177769Z"
    },
    "papermill": {
     "duration": 0.067891,
     "end_time": "2022-02-12T10:18:25.828220",
     "exception": false,
     "start_time": "2022-02-12T10:18:25.760329",
     "status": "completed"
    },
    "tags": []
   },
   "outputs": [
    {
     "name": "stdout",
     "output_type": "stream",
     "text": [
      "The train labels are:\n"
     ]
    },
    {
     "data": {
      "text/plain": [
       "array(['Lead', 'Position', 'Evidence', 'Claim', 'Concluding Statement',\n",
       "       'Counterclaim', 'Rebuttal'], dtype=object)"
      ]
     },
     "execution_count": 7,
     "metadata": {},
     "output_type": "execute_result"
    }
   ],
   "source": [
    "print('The train labels are:')\n",
    "train.discourse_type.unique()"
   ]
  },
  {
   "cell_type": "code",
   "execution_count": 8,
   "id": "14171442",
   "metadata": {
    "execution": {
     "iopub.execute_input": "2022-02-12T10:18:25.923222Z",
     "iopub.status.busy": "2022-02-12T10:18:25.922251Z",
     "iopub.status.idle": "2022-02-12T10:18:25.932120Z",
     "shell.execute_reply": "2022-02-12T10:18:25.932709Z",
     "shell.execute_reply.started": "2022-02-12T08:38:23.829893Z"
    },
    "papermill": {
     "duration": 0.064309,
     "end_time": "2022-02-12T10:18:25.932880",
     "exception": false,
     "start_time": "2022-02-12T10:18:25.868571",
     "status": "completed"
    },
    "tags": []
   },
   "outputs": [
    {
     "name": "stdout",
     "output_type": "stream",
     "text": [
      "There are 15594 train texts.\n"
     ]
    }
   ],
   "source": [
    "IDS = train.id.unique()\n",
    "print('There are',len(IDS),'train texts.')"
   ]
  },
  {
   "cell_type": "markdown",
   "id": "3d7a746e",
   "metadata": {
    "papermill": {
     "duration": 0.038949,
     "end_time": "2022-02-12T10:18:26.011654",
     "exception": false,
     "start_time": "2022-02-12T10:18:25.972705",
     "status": "completed"
    },
    "tags": []
   },
   "source": [
    "# Tokenize Train\n",
    "The following code converts Kaggle's train dataset into a NER token array that we can use to train a NER transformer. I have made it very clear which targets belong to which class. This allows us to very easily convert this code to `Question Answer formulation` if we want. Just change the 14 NER arrays to be 14 arrays of `start position` and `end position` for each of the 7 classes. (You will need to think creatively what to do if a single text has multiple of one class)."
   ]
  },
  {
   "cell_type": "code",
   "execution_count": 9,
   "id": "863de99b",
   "metadata": {
    "execution": {
     "iopub.execute_input": "2022-02-12T10:18:26.104080Z",
     "iopub.status.busy": "2022-02-12T10:18:26.103323Z",
     "iopub.status.idle": "2022-02-12T10:18:26.265344Z",
     "shell.execute_reply": "2022-02-12T10:18:26.265957Z",
     "shell.execute_reply.started": "2022-02-12T08:42:22.409313Z"
    },
    "papermill": {
     "duration": 0.214869,
     "end_time": "2022-02-12T10:18:26.266184",
     "exception": false,
     "start_time": "2022-02-12T10:18:26.051315",
     "status": "completed"
    },
    "tags": []
   },
   "outputs": [],
   "source": [
    "MAX_LEN = 1024\n",
    "\n",
    "# THE TOKENS AND ATTENTION ARRAYS\n",
    "tokenizer = AutoTokenizer.from_pretrained(DOWNLOADED_MODEL_PATH)\n",
    "train_tokens = np.zeros((len(IDS),MAX_LEN), dtype='int32')\n",
    "train_attention = np.zeros((len(IDS),MAX_LEN), dtype='int32')\n",
    "\n",
    "# THE 14 CLASSES FOR NER\n",
    "lead_b = np.zeros((len(IDS),MAX_LEN))\n",
    "lead_i = np.zeros((len(IDS),MAX_LEN))\n",
    "\n",
    "position_b = np.zeros((len(IDS),MAX_LEN))\n",
    "position_i = np.zeros((len(IDS),MAX_LEN))\n",
    "\n",
    "evidence_b = np.zeros((len(IDS),MAX_LEN))\n",
    "evidence_i = np.zeros((len(IDS),MAX_LEN))\n",
    "\n",
    "claim_b = np.zeros((len(IDS),MAX_LEN))\n",
    "claim_i = np.zeros((len(IDS),MAX_LEN))\n",
    "\n",
    "conclusion_b = np.zeros((len(IDS),MAX_LEN))\n",
    "conclusion_i = np.zeros((len(IDS),MAX_LEN))\n",
    "\n",
    "counterclaim_b = np.zeros((len(IDS),MAX_LEN))\n",
    "counterclaim_i = np.zeros((len(IDS),MAX_LEN))\n",
    "\n",
    "rebuttal_b = np.zeros((len(IDS),MAX_LEN))\n",
    "rebuttal_i = np.zeros((len(IDS),MAX_LEN))\n",
    "\n",
    "# HELPER VARIABLES\n",
    "train_lens = []\n",
    "targets_b = [lead_b, position_b, evidence_b, claim_b, conclusion_b, counterclaim_b, rebuttal_b]\n",
    "targets_i = [lead_i, position_i, evidence_i, claim_i, conclusion_i, counterclaim_i, rebuttal_i]\n",
    "target_map = {'Lead':0, 'Position':1, 'Evidence':2, 'Claim':3, 'Concluding Statement':4,\n",
    "             'Counterclaim':5, 'Rebuttal':6}"
   ]
  },
  {
   "cell_type": "code",
   "execution_count": 10,
   "id": "fe6e4d1e",
   "metadata": {
    "collapsed": true,
    "execution": {
     "iopub.execute_input": "2022-02-12T10:18:26.355398Z",
     "iopub.status.busy": "2022-02-12T10:18:26.354046Z",
     "iopub.status.idle": "2022-02-12T10:18:26.364814Z",
     "shell.execute_reply": "2022-02-12T10:18:26.365393Z",
     "shell.execute_reply.started": "2022-02-12T08:45:37.077492Z"
    },
    "jupyter": {
     "outputs_hidden": true
    },
    "papermill": {
     "duration": 0.057413,
     "end_time": "2022-02-12T10:18:26.365617",
     "exception": false,
     "start_time": "2022-02-12T10:18:26.308204",
     "status": "completed"
    },
    "tags": []
   },
   "outputs": [
    {
     "data": {
      "text/plain": [
       "[array([[0., 0., 0., ..., 0., 0., 0.],\n",
       "        [0., 0., 0., ..., 0., 0., 0.],\n",
       "        [0., 0., 0., ..., 0., 0., 0.],\n",
       "        ...,\n",
       "        [0., 0., 0., ..., 0., 0., 0.],\n",
       "        [0., 0., 0., ..., 0., 0., 0.],\n",
       "        [0., 0., 0., ..., 0., 0., 0.]]),\n",
       " array([[0., 0., 0., ..., 0., 0., 0.],\n",
       "        [0., 0., 0., ..., 0., 0., 0.],\n",
       "        [0., 0., 0., ..., 0., 0., 0.],\n",
       "        ...,\n",
       "        [0., 0., 0., ..., 0., 0., 0.],\n",
       "        [0., 0., 0., ..., 0., 0., 0.],\n",
       "        [0., 0., 0., ..., 0., 0., 0.]]),\n",
       " array([[0., 0., 0., ..., 0., 0., 0.],\n",
       "        [0., 0., 0., ..., 0., 0., 0.],\n",
       "        [0., 0., 0., ..., 0., 0., 0.],\n",
       "        ...,\n",
       "        [0., 0., 0., ..., 0., 0., 0.],\n",
       "        [0., 0., 0., ..., 0., 0., 0.],\n",
       "        [0., 0., 0., ..., 0., 0., 0.]]),\n",
       " array([[0., 0., 0., ..., 0., 0., 0.],\n",
       "        [0., 0., 0., ..., 0., 0., 0.],\n",
       "        [0., 0., 0., ..., 0., 0., 0.],\n",
       "        ...,\n",
       "        [0., 0., 0., ..., 0., 0., 0.],\n",
       "        [0., 0., 0., ..., 0., 0., 0.],\n",
       "        [0., 0., 0., ..., 0., 0., 0.]]),\n",
       " array([[0., 0., 0., ..., 0., 0., 0.],\n",
       "        [0., 0., 0., ..., 0., 0., 0.],\n",
       "        [0., 0., 0., ..., 0., 0., 0.],\n",
       "        ...,\n",
       "        [0., 0., 0., ..., 0., 0., 0.],\n",
       "        [0., 0., 0., ..., 0., 0., 0.],\n",
       "        [0., 0., 0., ..., 0., 0., 0.]]),\n",
       " array([[0., 0., 0., ..., 0., 0., 0.],\n",
       "        [0., 0., 0., ..., 0., 0., 0.],\n",
       "        [0., 0., 0., ..., 0., 0., 0.],\n",
       "        ...,\n",
       "        [0., 0., 0., ..., 0., 0., 0.],\n",
       "        [0., 0., 0., ..., 0., 0., 0.],\n",
       "        [0., 0., 0., ..., 0., 0., 0.]]),\n",
       " array([[0., 0., 0., ..., 0., 0., 0.],\n",
       "        [0., 0., 0., ..., 0., 0., 0.],\n",
       "        [0., 0., 0., ..., 0., 0., 0.],\n",
       "        ...,\n",
       "        [0., 0., 0., ..., 0., 0., 0.],\n",
       "        [0., 0., 0., ..., 0., 0., 0.],\n",
       "        [0., 0., 0., ..., 0., 0., 0.]])]"
      ]
     },
     "execution_count": 10,
     "metadata": {},
     "output_type": "execute_result"
    }
   ],
   "source": [
    "lead_b\n",
    "targets_b"
   ]
  },
  {
   "cell_type": "code",
   "execution_count": 11,
   "id": "fafe3e24",
   "metadata": {
    "execution": {
     "iopub.execute_input": "2022-02-12T10:18:26.463299Z",
     "iopub.status.busy": "2022-02-12T10:18:26.462253Z",
     "iopub.status.idle": "2022-02-12T10:18:29.838040Z",
     "shell.execute_reply": "2022-02-12T10:18:29.837125Z",
     "shell.execute_reply.started": "2022-02-05T13:32:41.240501Z"
    },
    "papermill": {
     "duration": 3.432054,
     "end_time": "2022-02-12T10:18:29.838186",
     "exception": false,
     "start_time": "2022-02-12T10:18:26.406132",
     "status": "completed"
    },
    "tags": []
   },
   "outputs": [],
   "source": [
    "# WE ASSUME DATAFRAME IS ASCENDING WHICH IT IS\n",
    "assert( np.sum(train.groupby('id')['discourse_start'].diff()<=0)==0 )\n",
    "\n",
    "# FOR LOOP THROUGH EACH TRAIN TEXT\n",
    "for id_num in range(len(IDS)):\n",
    "    if LOAD_TOKENS_FROM: break\n",
    "    if id_num%100==0: print(id_num,', ',end='')\n",
    "        \n",
    "    # READ TRAIN TEXT, TOKENIZE, AND SAVE IN TOKEN ARRAYS    \n",
    "    n = IDS[id_num]\n",
    "    name = f'../input/feedback-prize-2021/train/{n}.txt'\n",
    "    txt = open(name, 'r').read()\n",
    "    train_lens.append(len(txt.split()))\n",
    "    tokens = tokenizer.encode_plus(txt, max_length=MAX_LEN, padding='max_length',\n",
    "                                   truncation=True, return_offsets_mapping=True)\n",
    "    train_tokens[id_num,] = tokens['input_ids']\n",
    "    train_attention[id_num,] = tokens['attention_mask']\n",
    "    \n",
    "    # FIND TARGETS IN TEXT AND SAVE IN TARGET ARRAYS\n",
    "    offsets = tokens['offset_mapping']\n",
    "    offset_index = 0\n",
    "    df = train.loc[train.id==n]\n",
    "    for index,row in df.iterrows():\n",
    "        a = row.discourse_start\n",
    "        b = row.discourse_end\n",
    "        if offset_index>len(offsets)-1:\n",
    "            break\n",
    "        c = offsets[offset_index][0]\n",
    "        d = offsets[offset_index][1]\n",
    "        beginning = True\n",
    "        while b>c:\n",
    "            if (c>=a)&(b>=d):\n",
    "                k = target_map[row.discourse_type]\n",
    "                if beginning:\n",
    "                    targets_b[k][id_num][offset_index] = 1\n",
    "                    beginning = False\n",
    "                else:\n",
    "                    targets_i[k][id_num][offset_index] = 1\n",
    "            offset_index += 1\n",
    "            if offset_index>len(offsets)-1:\n",
    "                break\n",
    "            c = offsets[offset_index][0]\n",
    "            d = offsets[offset_index][1]"
   ]
  },
  {
   "cell_type": "code",
   "execution_count": 12,
   "id": "b0c6b5fb",
   "metadata": {
    "execution": {
     "iopub.execute_input": "2022-02-12T10:18:29.924937Z",
     "iopub.status.busy": "2022-02-12T10:18:29.924006Z",
     "iopub.status.idle": "2022-02-12T10:18:29.926640Z",
     "shell.execute_reply": "2022-02-12T10:18:29.927110Z",
     "shell.execute_reply.started": "2022-02-05T13:32:43.749671Z"
    },
    "papermill": {
     "duration": 0.048717,
     "end_time": "2022-02-12T10:18:29.927336",
     "exception": false,
     "start_time": "2022-02-12T10:18:29.878619",
     "status": "completed"
    },
    "tags": []
   },
   "outputs": [],
   "source": [
    "if LOAD_TOKENS_FROM is None:\n",
    "    plt.hist(train_lens,bins=100)\n",
    "    plt.title('Histogram of Train Word Counts',size=16)\n",
    "    plt.xlabel('Train Word Count',size=14)\n",
    "    plt.show()"
   ]
  },
  {
   "cell_type": "markdown",
   "id": "fe3ba2e8",
   "metadata": {
    "papermill": {
     "duration": 0.039936,
     "end_time": "2022-02-12T10:18:30.007846",
     "exception": false,
     "start_time": "2022-02-12T10:18:29.967910",
     "status": "completed"
    },
    "tags": []
   },
   "source": [
    "![](https://raw.githubusercontent.com/cdeotte/Kaggle_Images/main/Dec-2021/lengths4.png)\n",
    "\n",
    "From the histogram of train word counts above, we see that using a transformer width of 1024 is a good comprise of capturing most of the data's signal but not having too large a model. (Note that analyzing a histogram of train **token** counts would be better but we don't do that here). We could probably explore other widths between 512 and 1024 also. Or we could use widths of size 512 or smaller and use a stride which breaks a single text into multiple chunks (with possible overlap)."
   ]
  },
  {
   "cell_type": "code",
   "execution_count": 13,
   "id": "e101e94e",
   "metadata": {
    "execution": {
     "iopub.execute_input": "2022-02-12T10:18:30.098153Z",
     "iopub.status.busy": "2022-02-12T10:18:30.096856Z",
     "iopub.status.idle": "2022-02-12T10:18:30.099424Z",
     "shell.execute_reply": "2022-02-12T10:18:30.100072Z",
     "shell.execute_reply.started": "2022-02-05T13:32:43.75748Z"
    },
    "papermill": {
     "duration": 0.051201,
     "end_time": "2022-02-12T10:18:30.100229",
     "exception": false,
     "start_time": "2022-02-12T10:18:30.049028",
     "status": "completed"
    },
    "tags": []
   },
   "outputs": [],
   "source": [
    "if LOAD_TOKENS_FROM is None:\n",
    "    targets = np.zeros((len(IDS),MAX_LEN,15), dtype='int32')\n",
    "    for k in range(7):\n",
    "        targets[:,:,2*k] = targets_b[k]\n",
    "        targets[:,:,2*k+1] = targets_i[k]\n",
    "    targets[:,:,14] = 1-np.max(targets,axis=-1)"
   ]
  },
  {
   "cell_type": "code",
   "execution_count": 14,
   "id": "8f58b788",
   "metadata": {
    "execution": {
     "iopub.execute_input": "2022-02-12T10:18:30.192005Z",
     "iopub.status.busy": "2022-02-12T10:18:30.191277Z",
     "iopub.status.idle": "2022-02-12T10:18:37.051603Z",
     "shell.execute_reply": "2022-02-12T10:18:37.050967Z",
     "shell.execute_reply.started": "2022-02-05T13:32:43.766309Z"
    },
    "papermill": {
     "duration": 6.906743,
     "end_time": "2022-02-12T10:18:37.051753",
     "exception": false,
     "start_time": "2022-02-12T10:18:30.145010",
     "status": "completed"
    },
    "tags": []
   },
   "outputs": [
    {
     "name": "stdout",
     "output_type": "stream",
     "text": [
      "Loaded NER tokens\n"
     ]
    }
   ],
   "source": [
    "if LOAD_TOKENS_FROM is None:\n",
    "    np.save(f'targets_{MAX_LEN}', targets)\n",
    "    np.save(f'tokens_{MAX_LEN}', train_tokens)\n",
    "    np.save(f'attention_{MAX_LEN}', train_attention)\n",
    "    print('Saved NER tokens')\n",
    "else:\n",
    "    targets = np.load(f'{LOAD_TOKENS_FROM}/targets_{MAX_LEN}.npy')\n",
    "    train_tokens = np.load(f'{LOAD_TOKENS_FROM}/tokens_{MAX_LEN}.npy')\n",
    "    train_attention = np.load(f'{LOAD_TOKENS_FROM}/attention_{MAX_LEN}.npy')\n",
    "    print('Loaded NER tokens')"
   ]
  },
  {
   "cell_type": "markdown",
   "id": "37cb1a75",
   "metadata": {
    "papermill": {
     "duration": 0.045348,
     "end_time": "2022-02-12T10:18:37.139680",
     "exception": false,
     "start_time": "2022-02-12T10:18:37.094332",
     "status": "completed"
    },
    "tags": []
   },
   "source": [
    "# Build Model\n",
    "We will use LongFormer backbone and add our own NER head using one hidden layer of size 256 and one final layer with softmax. We use 15 classes because we have a `B` class and `I` class for each of 7 labels. And we have an additional class (called `O` class) for tokens that do not belong to one of the 14 classes."
   ]
  },
  {
   "cell_type": "code",
   "execution_count": 15,
   "id": "67fa6b1e",
   "metadata": {
    "execution": {
     "iopub.execute_input": "2022-02-12T10:18:37.243318Z",
     "iopub.status.busy": "2022-02-12T10:18:37.241780Z",
     "iopub.status.idle": "2022-02-12T10:18:37.246941Z",
     "shell.execute_reply": "2022-02-12T10:18:37.246354Z",
     "shell.execute_reply.started": "2022-02-05T13:32:52.637116Z"
    },
    "papermill": {
     "duration": 0.056428,
     "end_time": "2022-02-12T10:18:37.247096",
     "exception": false,
     "start_time": "2022-02-12T10:18:37.190668",
     "status": "completed"
    },
    "tags": []
   },
   "outputs": [],
   "source": [
    "def build_model():\n",
    "    \n",
    "    tokens = tf.keras.layers.Input(shape=(MAX_LEN,), name = 'tokens', dtype=tf.int32)\n",
    "    attention = tf.keras.layers.Input(shape=(MAX_LEN,), name = 'attention', dtype=tf.int32)\n",
    "    \n",
    "    config = AutoConfig.from_pretrained(DOWNLOADED_MODEL_PATH+'/config.json') \n",
    "    backbone = TFAutoModel.from_pretrained(DOWNLOADED_MODEL_PATH+'/tf_model.h5', config=config)\n",
    "    \n",
    "    x = backbone(tokens, attention_mask=attention)\n",
    "    x = tf.keras.layers.Dense(256, activation='relu')(x[0])\n",
    "    x = tf.keras.layers.Dense(15, activation='softmax', dtype='float32')(x)\n",
    "    \n",
    "    model = tf.keras.Model(inputs=[tokens,attention], outputs=x)\n",
    "    model.compile(optimizer = tf.keras.optimizers.Adam(lr = 1e-4),\n",
    "                  loss = [tf.keras.losses.CategoricalCrossentropy()],\n",
    "                  metrics = [tf.keras.metrics.CategoricalAccuracy()])\n",
    "    \n",
    "    return model"
   ]
  },
  {
   "cell_type": "code",
   "execution_count": 16,
   "id": "c0bf0e15",
   "metadata": {
    "execution": {
     "iopub.execute_input": "2022-02-12T10:18:37.336286Z",
     "iopub.status.busy": "2022-02-12T10:18:37.335450Z",
     "iopub.status.idle": "2022-02-12T10:19:14.354407Z",
     "shell.execute_reply": "2022-02-12T10:19:14.355012Z",
     "shell.execute_reply.started": "2022-02-12T10:09:23.038846Z"
    },
    "papermill": {
     "duration": 37.065919,
     "end_time": "2022-02-12T10:19:14.355216",
     "exception": false,
     "start_time": "2022-02-12T10:18:37.289297",
     "status": "completed"
    },
    "tags": []
   },
   "outputs": [
    {
     "name": "stderr",
     "output_type": "stream",
     "text": [
      "All model checkpoint layers were used when initializing TFLongformerModel.\n",
      "\n",
      "All the layers of TFLongformerModel were initialized from the model checkpoint at ../input/tf-longformer-v12/tf_model.h5.\n",
      "If your task is similar to the task the model of the checkpoint was trained on, you can already use TFLongformerModel for predictions without further training.\n",
      "/opt/conda/lib/python3.7/site-packages/keras/optimizer_v2/optimizer_v2.py:356: UserWarning: The `lr` argument is deprecated, use `learning_rate` instead.\n",
      "  \"The `lr` argument is deprecated, use `learning_rate` instead.\")\n"
     ]
    }
   ],
   "source": [
    "with strategy.scope():\n",
    "    model = build_model()"
   ]
  },
  {
   "cell_type": "markdown",
   "id": "b2d55ac5",
   "metadata": {
    "papermill": {
     "duration": 0.04365,
     "end_time": "2022-02-12T10:19:14.441624",
     "exception": false,
     "start_time": "2022-02-12T10:19:14.397974",
     "status": "completed"
    },
    "tags": []
   },
   "source": [
    "# Train or Load Model\n",
    "If you provide a path in variable `LOAD_MODEL_FROM` above, then it will load your previously trained model. Otherwise it will train now. \n",
    "\n",
    "The model which is loaded in versions 1 thru 4 of this notebook were trained offline using 5 epochs of batch size 32 and learning rate `1e4` for the first four and `1e5` for the last epoch. That model was trained using 4xV100 GPU. \n",
    "\n",
    "Version 5 of this notebook loads a model that was trained in a Kaggle notebook by user @kaggleqrdl in his notebook version 20 [here][1]. Please upvote Qrdl's notebook :-) Qrdl has been running experiments and found a great learning rate to use when training with small batch size.\n",
    "\n",
    "When training on Kaggle's 1xP100 GPU, we need to reduce the batch size to 4. And we reduce the learning rates to `0.25e-4` and `0.25e-5`. I have updated the batch size and learning rate below so that it is ready to train in a Kaggle notebook! (Each training epoch on Kaggle takes 1 hour 8 minutes).\n",
    "\n",
    "[1]: https://www.kaggle.com/kaggleqrdl/v4expmt-tensorflow-longformer-ner-cv-0-634?scriptVersionId=83341823"
   ]
  },
  {
   "cell_type": "code",
   "execution_count": 17,
   "id": "3845b03b",
   "metadata": {
    "execution": {
     "iopub.execute_input": "2022-02-12T10:19:14.534213Z",
     "iopub.status.busy": "2022-02-12T10:19:14.532905Z",
     "iopub.status.idle": "2022-02-12T10:19:14.535238Z",
     "shell.execute_reply": "2022-02-12T10:19:14.535868Z",
     "shell.execute_reply.started": "2022-02-05T13:33:23.764677Z"
    },
    "papermill": {
     "duration": 0.051055,
     "end_time": "2022-02-12T10:19:14.536038",
     "exception": false,
     "start_time": "2022-02-12T10:19:14.484983",
     "status": "completed"
    },
    "tags": []
   },
   "outputs": [],
   "source": [
    "# LEARNING RATE SCHEDULE AND MODEL CHECKPOINT\n",
    "EPOCHS = 6\n",
    "BATCH_SIZE = 4 \n",
    "LRS = [0.25e-4, 0.25e-4, 0.25e-4, 0.25e-4, 0.25e-5] \n",
    "def lrfn(epoch):\n",
    "    return LRS[epoch]\n",
    "lr_callback = tf.keras.callbacks.LearningRateScheduler(lrfn, verbose = True)"
   ]
  },
  {
   "cell_type": "code",
   "execution_count": 18,
   "id": "f259998c",
   "metadata": {
    "execution": {
     "iopub.execute_input": "2022-02-12T10:19:14.628705Z",
     "iopub.status.busy": "2022-02-12T10:19:14.627968Z",
     "iopub.status.idle": "2022-02-12T10:19:14.635853Z",
     "shell.execute_reply": "2022-02-12T10:19:14.636441Z",
     "shell.execute_reply.started": "2022-02-05T13:33:23.771871Z"
    },
    "papermill": {
     "duration": 0.059797,
     "end_time": "2022-02-12T10:19:14.636619",
     "exception": false,
     "start_time": "2022-02-12T10:19:14.576822",
     "status": "completed"
    },
    "tags": []
   },
   "outputs": [
    {
     "name": "stdout",
     "output_type": "stream",
     "text": [
      "Train size 14034 , Valid size 1560\n"
     ]
    }
   ],
   "source": [
    "# TRAIN VALID SPLIT 90% 10%\n",
    "np.random.seed(42)\n",
    "train_idx = np.random.choice(np.arange(len(IDS)),int(0.9*len(IDS)),replace=False)\n",
    "valid_idx = np.setdiff1d(np.arange(len(IDS)),train_idx)\n",
    "np.random.seed(None)\n",
    "print('Train size',len(train_idx),', Valid size',len(valid_idx))"
   ]
  },
  {
   "cell_type": "code",
   "execution_count": 19,
   "id": "8244642b",
   "metadata": {
    "execution": {
     "iopub.execute_input": "2022-02-12T10:19:14.739645Z",
     "iopub.status.busy": "2022-02-12T10:19:14.738440Z",
     "iopub.status.idle": "2022-02-12T10:19:20.205184Z",
     "shell.execute_reply": "2022-02-12T10:19:20.204638Z",
     "shell.execute_reply.started": "2022-02-05T13:33:23.787685Z"
    },
    "papermill": {
     "duration": 5.526725,
     "end_time": "2022-02-12T10:19:20.205360",
     "exception": false,
     "start_time": "2022-02-12T10:19:14.678635",
     "status": "completed"
    },
    "scrolled": true,
    "tags": []
   },
   "outputs": [],
   "source": [
    "# LOAD MODEL\n",
    "if LOAD_MODEL_FROM:\n",
    "    model.load_weights(f'{LOAD_MODEL_FROM}/long_v{VER}.h5')\n",
    "    \n",
    "# OR TRAIN MODEL\n",
    "else:\n",
    "    model.fit(x = [train_tokens[train_idx,], train_attention[train_idx,]],\n",
    "          y = targets[train_idx,],\n",
    "          validation_data = ([train_tokens[valid_idx,], train_attention[valid_idx,]],\n",
    "                             targets[valid_idx,]),\n",
    "          callbacks = [lr_callback],\n",
    "          epochs = EPOCHS,\n",
    "          batch_size = BATCH_SIZE,\n",
    "          verbose = 2)\n",
    "\n",
    "    # SAVE MODEL WEIGHTS\n",
    "    model.save_weights(f'long_v{VER}.h5')"
   ]
  },
  {
   "cell_type": "markdown",
   "id": "878ba0b4",
   "metadata": {
    "papermill": {
     "duration": 0.043997,
     "end_time": "2022-02-12T10:19:20.293636",
     "exception": false,
     "start_time": "2022-02-12T10:19:20.249639",
     "status": "completed"
    },
    "tags": []
   },
   "source": [
    "# Validate Model - Infer OOF\n",
    "We will now make predictions on the validation texts. Our model makes label predictions for each token, we need to convert this into a list of word indices for each label. Note that the tokens and words are not the same. A single word may be broken into multiple tokens. Therefore we need to first create a map to change token indices to word indices."
   ]
  },
  {
   "cell_type": "code",
   "execution_count": 20,
   "id": "26674225",
   "metadata": {
    "execution": {
     "iopub.execute_input": "2022-02-12T10:19:20.384960Z",
     "iopub.status.busy": "2022-02-12T10:19:20.383563Z",
     "iopub.status.idle": "2022-02-12T10:23:04.382549Z",
     "shell.execute_reply": "2022-02-12T10:23:04.383106Z",
     "shell.execute_reply.started": "2022-02-05T13:33:30.872174Z"
    },
    "papermill": {
     "duration": 224.048153,
     "end_time": "2022-02-12T10:23:04.383307",
     "exception": false,
     "start_time": "2022-02-12T10:19:20.335154",
     "status": "completed"
    },
    "tags": []
   },
   "outputs": [
    {
     "name": "stdout",
     "output_type": "stream",
     "text": [
      "98/98 - 197s\n",
      "OOF predictions shape: (1560, 1024, 15)\n"
     ]
    }
   ],
   "source": [
    "p = model.predict([train_tokens[valid_idx,], train_attention[valid_idx,]], \n",
    "                  batch_size=16, verbose=2)\n",
    "print('OOF predictions shape:',p.shape)\n",
    "oof_preds = np.argmax(p,axis=-1)"
   ]
  },
  {
   "cell_type": "code",
   "execution_count": 21,
   "id": "2830dd5e",
   "metadata": {
    "execution": {
     "iopub.execute_input": "2022-02-12T10:23:04.474348Z",
     "iopub.status.busy": "2022-02-12T10:23:04.473283Z",
     "iopub.status.idle": "2022-02-12T10:23:04.475896Z",
     "shell.execute_reply": "2022-02-12T10:23:04.476510Z",
     "shell.execute_reply.started": "2022-02-05T13:36:36.242843Z"
    },
    "papermill": {
     "duration": 0.050942,
     "end_time": "2022-02-12T10:23:04.476669",
     "exception": false,
     "start_time": "2022-02-12T10:23:04.425727",
     "status": "completed"
    },
    "tags": []
   },
   "outputs": [],
   "source": [
    "target_map_rev = {0:'Lead', 1:'Position', 2:'Evidence', 3:'Claim', 4:'Concluding Statement',\n",
    "             5:'Counterclaim', 6:'Rebuttal', 7:'blank'}"
   ]
  },
  {
   "cell_type": "code",
   "execution_count": 22,
   "id": "208c40ba",
   "metadata": {
    "execution": {
     "iopub.execute_input": "2022-02-12T10:23:04.581540Z",
     "iopub.status.busy": "2022-02-12T10:23:04.580325Z",
     "iopub.status.idle": "2022-02-12T10:23:04.582705Z",
     "shell.execute_reply": "2022-02-12T10:23:04.583237Z",
     "shell.execute_reply.started": "2022-02-05T13:36:36.257697Z"
    },
    "papermill": {
     "duration": 0.065212,
     "end_time": "2022-02-12T10:23:04.583432",
     "exception": false,
     "start_time": "2022-02-12T10:23:04.518220",
     "status": "completed"
    },
    "tags": []
   },
   "outputs": [],
   "source": [
    "def get_preds(dataset='train', verbose=True, text_ids=IDS[valid_idx], preds=oof_preds):\n",
    "    all_predictions = []\n",
    "\n",
    "    for id_num in range(len(preds)):\n",
    "    \n",
    "        # GET ID\n",
    "        if (id_num%100==0)&(verbose): \n",
    "            print(id_num,', ',end='')\n",
    "        n = text_ids[id_num]\n",
    "    \n",
    "        # GET TOKEN POSITIONS IN CHARS\n",
    "        name = f'../input/feedback-prize-2021/{dataset}/{n}.txt'\n",
    "        txt = open(name, 'r').read()\n",
    "        tokens = tokenizer.encode_plus(txt, max_length=MAX_LEN, padding='max_length',\n",
    "                                   truncation=True, return_offsets_mapping=True)\n",
    "        off = tokens['offset_mapping']\n",
    "    \n",
    "        # GET WORD POSITIONS IN CHARS\n",
    "        w = []\n",
    "        blank = True\n",
    "        for i in range(len(txt)):\n",
    "            if (txt[i]!=' ')&(txt[i]!='\\n')&(txt[i]!='\\xa0')&(txt[i]!='\\x85')&(blank==True):\n",
    "                w.append(i)\n",
    "                blank=False\n",
    "            elif (txt[i]==' ')|(txt[i]=='\\n')|(txt[i]=='\\xa0')|(txt[i]=='\\x85'):\n",
    "                blank=True\n",
    "        w.append(1e6)\n",
    "            \n",
    "        # MAPPING FROM TOKENS TO WORDS\n",
    "        word_map = -1 * np.ones(MAX_LEN,dtype='int32')\n",
    "        w_i = 0\n",
    "        for i in range(len(off)):\n",
    "            if off[i][1]==0: continue\n",
    "            while off[i][0]>=w[w_i+1]: w_i += 1\n",
    "            word_map[i] = int(w_i)\n",
    "        \n",
    "        # CONVERT TOKEN PREDICTIONS INTO WORD LABELS\n",
    "        ### KEY: ###\n",
    "        # 0: LEAD_B, 1: LEAD_I\n",
    "        # 2: POSITION_B, 3: POSITION_I\n",
    "        # 4: EVIDENCE_B, 5: EVIDENCE_I\n",
    "        # 6: CLAIM_B, 7: CLAIM_I\n",
    "        # 8: CONCLUSION_B, 9: CONCLUSION_I\n",
    "        # 10: COUNTERCLAIM_B, 11: COUNTERCLAIM_I\n",
    "        # 12: REBUTTAL_B, 13: REBUTTAL_I\n",
    "        # 14: NOTHING i.e. O\n",
    "        ### NOTE THESE VALUES ARE DIVIDED BY 2 IN NEXT CODE LINE\n",
    "        pred = preds[id_num,]/2.0\n",
    "    \n",
    "        i = 0\n",
    "        while i<MAX_LEN:\n",
    "            prediction = []\n",
    "            start = pred[i]\n",
    "            if start in [0,1,2,3,4,5,6,7]:\n",
    "                prediction.append(word_map[i])\n",
    "                i += 1\n",
    "                if i>=MAX_LEN: break\n",
    "                while pred[i]==start+0.5:\n",
    "                    if not word_map[i] in prediction:\n",
    "                        prediction.append(word_map[i])\n",
    "                    i += 1\n",
    "                    if i>=MAX_LEN: break\n",
    "            else:\n",
    "                i += 1\n",
    "            prediction = [x for x in prediction if x!=-1]\n",
    "            if len(prediction)>4:\n",
    "                all_predictions.append( (n, target_map_rev[int(start)], \n",
    "                                ' '.join([str(x) for x in prediction]) ) )\n",
    "                \n",
    "    # MAKE DATAFRAME\n",
    "    df = pd.DataFrame(all_predictions)\n",
    "    df.columns = ['id','class','predictionstring']\n",
    "    \n",
    "    return df"
   ]
  },
  {
   "cell_type": "code",
   "execution_count": 23,
   "id": "76ed05a2",
   "metadata": {
    "execution": {
     "iopub.execute_input": "2022-02-12T10:23:04.674105Z",
     "iopub.status.busy": "2022-02-12T10:23:04.673319Z",
     "iopub.status.idle": "2022-02-12T10:23:32.333909Z",
     "shell.execute_reply": "2022-02-12T10:23:32.332903Z",
     "shell.execute_reply.started": "2022-02-05T13:36:36.28211Z"
    },
    "papermill": {
     "duration": 27.708547,
     "end_time": "2022-02-12T10:23:32.334074",
     "exception": false,
     "start_time": "2022-02-12T10:23:04.625527",
     "status": "completed"
    },
    "tags": []
   },
   "outputs": [
    {
     "name": "stdout",
     "output_type": "stream",
     "text": [
      "0 , 100 , 200 , 300 , 400 , 500 , 600 , 700 , 800 , 900 , 1000 , 1100 , 1200 , 1300 , 1400 , 1500 , "
     ]
    },
    {
     "data": {
      "text/html": [
       "<div>\n",
       "<style scoped>\n",
       "    .dataframe tbody tr th:only-of-type {\n",
       "        vertical-align: middle;\n",
       "    }\n",
       "\n",
       "    .dataframe tbody tr th {\n",
       "        vertical-align: top;\n",
       "    }\n",
       "\n",
       "    .dataframe thead th {\n",
       "        text-align: right;\n",
       "    }\n",
       "</style>\n",
       "<table border=\"1\" class=\"dataframe\">\n",
       "  <thead>\n",
       "    <tr style=\"text-align: right;\">\n",
       "      <th></th>\n",
       "      <th>id</th>\n",
       "      <th>class</th>\n",
       "      <th>predictionstring</th>\n",
       "    </tr>\n",
       "  </thead>\n",
       "  <tbody>\n",
       "    <tr>\n",
       "      <th>0</th>\n",
       "      <td>50B3435E475B</td>\n",
       "      <td>Lead</td>\n",
       "      <td>3 4 5 6 7 8 9 10 11 12 13 14 15 16 17 18 19 20...</td>\n",
       "    </tr>\n",
       "    <tr>\n",
       "      <th>1</th>\n",
       "      <td>50B3435E475B</td>\n",
       "      <td>Position</td>\n",
       "      <td>63 64 65 66 67 68 69 70 71 72 73 74 75</td>\n",
       "    </tr>\n",
       "    <tr>\n",
       "      <th>2</th>\n",
       "      <td>50B3435E475B</td>\n",
       "      <td>Claim</td>\n",
       "      <td>76 77 78 79 80 81 82 83 84 85 86 87</td>\n",
       "    </tr>\n",
       "    <tr>\n",
       "      <th>3</th>\n",
       "      <td>50B3435E475B</td>\n",
       "      <td>Evidence</td>\n",
       "      <td>88 89 90 91 92 93 94 95 96 97 98 99 100 101 10...</td>\n",
       "    </tr>\n",
       "    <tr>\n",
       "      <th>4</th>\n",
       "      <td>50B3435E475B</td>\n",
       "      <td>Claim</td>\n",
       "      <td>162 163 164 165 166 167 168 169 170 171 172 17...</td>\n",
       "    </tr>\n",
       "  </tbody>\n",
       "</table>\n",
       "</div>"
      ],
      "text/plain": [
       "             id     class                                   predictionstring\n",
       "0  50B3435E475B      Lead  3 4 5 6 7 8 9 10 11 12 13 14 15 16 17 18 19 20...\n",
       "1  50B3435E475B  Position             63 64 65 66 67 68 69 70 71 72 73 74 75\n",
       "2  50B3435E475B     Claim                76 77 78 79 80 81 82 83 84 85 86 87\n",
       "3  50B3435E475B  Evidence  88 89 90 91 92 93 94 95 96 97 98 99 100 101 10...\n",
       "4  50B3435E475B     Claim  162 163 164 165 166 167 168 169 170 171 172 17..."
      ]
     },
     "execution_count": 23,
     "metadata": {},
     "output_type": "execute_result"
    }
   ],
   "source": [
    "oof = get_preds( dataset='train', verbose=True, text_ids=IDS[valid_idx] )\n",
    "oof.head()"
   ]
  },
  {
   "cell_type": "code",
   "execution_count": 24,
   "id": "40ebe0eb",
   "metadata": {
    "execution": {
     "iopub.execute_input": "2022-02-12T10:23:32.443861Z",
     "iopub.status.busy": "2022-02-12T10:23:32.441917Z",
     "iopub.status.idle": "2022-02-12T10:23:32.448721Z",
     "shell.execute_reply": "2022-02-12T10:23:32.449308Z",
     "shell.execute_reply.started": "2022-02-05T13:36:59.446166Z"
    },
    "papermill": {
     "duration": 0.064282,
     "end_time": "2022-02-12T10:23:32.449550",
     "exception": false,
     "start_time": "2022-02-12T10:23:32.385268",
     "status": "completed"
    },
    "tags": []
   },
   "outputs": [
    {
     "name": "stdout",
     "output_type": "stream",
     "text": [
      "The following classes are present in oof preds:\n"
     ]
    },
    {
     "data": {
      "text/plain": [
       "array(['Lead', 'Position', 'Claim', 'Evidence', 'Concluding Statement',\n",
       "       'Counterclaim', 'Rebuttal'], dtype=object)"
      ]
     },
     "execution_count": 24,
     "metadata": {},
     "output_type": "execute_result"
    }
   ],
   "source": [
    "print('The following classes are present in oof preds:')\n",
    "oof['class'].unique()"
   ]
  },
  {
   "cell_type": "markdown",
   "id": "911e18d7",
   "metadata": {
    "papermill": {
     "duration": 0.050574,
     "end_time": "2022-02-12T10:23:32.551186",
     "exception": false,
     "start_time": "2022-02-12T10:23:32.500612",
     "status": "completed"
    },
    "tags": []
   },
   "source": [
    "# Compute Validation Metric\n",
    "The following code is from Rob Mulla's excellent notebook [here][2]. Our LongFormer single fold model achieves CV score 0.633! Hooray!\n",
    "\n",
    "[2]: https://www.kaggle.com/robikscube/student-writing-competition-twitch"
   ]
  },
  {
   "cell_type": "code",
   "execution_count": 25,
   "id": "61308d7f",
   "metadata": {
    "execution": {
     "iopub.execute_input": "2022-02-12T10:23:32.672636Z",
     "iopub.status.busy": "2022-02-12T10:23:32.671364Z",
     "iopub.status.idle": "2022-02-12T10:23:32.674792Z",
     "shell.execute_reply": "2022-02-12T10:23:32.674164Z",
     "shell.execute_reply.started": "2022-02-05T13:36:59.455736Z"
    },
    "papermill": {
     "duration": 0.072063,
     "end_time": "2022-02-12T10:23:32.675017",
     "exception": false,
     "start_time": "2022-02-12T10:23:32.602954",
     "status": "completed"
    },
    "tags": []
   },
   "outputs": [],
   "source": [
    "# CODE FROM : Rob Mulla @robikscube\n",
    "# https://www.kaggle.com/robikscube/student-writing-competition-twitch\n",
    "def calc_overlap(row):\n",
    "    \"\"\"\n",
    "    Calculates the overlap between prediction and\n",
    "    ground truth and overlap percentages used for determining\n",
    "    true positives.\n",
    "    \"\"\"\n",
    "    set_pred = set(row.predictionstring_pred.split(' '))\n",
    "    set_gt = set(row.predictionstring_gt.split(' '))\n",
    "    # Length of each and intersection\n",
    "    len_gt = len(set_gt)\n",
    "    len_pred = len(set_pred)\n",
    "    inter = len(set_gt.intersection(set_pred))\n",
    "    overlap_1 = inter / len_gt\n",
    "    overlap_2 = inter/ len_pred\n",
    "    return [overlap_1, overlap_2]\n",
    "\n",
    "\n",
    "def score_feedback_comp(pred_df, gt_df):\n",
    "    \"\"\"\n",
    "    A function that scores for the kaggle\n",
    "        Student Writing Competition\n",
    "        \n",
    "    Uses the steps in the evaluation page here:\n",
    "        https://www.kaggle.com/c/feedback-prize-2021/overview/evaluation\n",
    "    \"\"\"\n",
    "    gt_df = gt_df[['id','discourse_type','predictionstring']] \\\n",
    "        .reset_index(drop=True).copy()\n",
    "    pred_df = pred_df[['id','class','predictionstring']] \\\n",
    "        .reset_index(drop=True).copy()\n",
    "    pred_df['pred_id'] = pred_df.index\n",
    "    gt_df['gt_id'] = gt_df.index\n",
    "    # Step 1. all ground truths and predictions for a given class are compared.\n",
    "    joined = pred_df.merge(gt_df,\n",
    "                           left_on=['id','class'],\n",
    "                           right_on=['id','discourse_type'],\n",
    "                           how='outer',\n",
    "                           suffixes=('_pred','_gt')\n",
    "                          )\n",
    "    joined['predictionstring_gt'] = joined['predictionstring_gt'].fillna(' ')\n",
    "    joined['predictionstring_pred'] = joined['predictionstring_pred'].fillna(' ')\n",
    "\n",
    "    joined['overlaps'] = joined.apply(calc_overlap, axis=1)\n",
    "\n",
    "    # 2. If the overlap between the ground truth and prediction is >= 0.5, \n",
    "    # and the overlap between the prediction and the ground truth >= 0.5,\n",
    "    # the prediction is a match and considered a true positive.\n",
    "    # If multiple matches exist, the match with the highest pair of overlaps is taken.\n",
    "    joined['overlap1'] = joined['overlaps'].apply(lambda x: eval(str(x))[0])\n",
    "    joined['overlap2'] = joined['overlaps'].apply(lambda x: eval(str(x))[1])\n",
    "\n",
    "\n",
    "    joined['potential_TP'] = (joined['overlap1'] >= 0.5) & (joined['overlap2'] >= 0.5)\n",
    "    joined['max_overlap'] = joined[['overlap1','overlap2']].max(axis=1)\n",
    "    tp_pred_ids = joined.query('potential_TP') \\\n",
    "        .sort_values('max_overlap', ascending=False) \\\n",
    "        .groupby(['id','predictionstring_gt']).first()['pred_id'].values\n",
    "\n",
    "    # 3. Any unmatched ground truths are false negatives\n",
    "    # and any unmatched predictions are false positives.\n",
    "    fp_pred_ids = [p for p in joined['pred_id'].unique() if p not in tp_pred_ids]\n",
    "\n",
    "    matched_gt_ids = joined.query('potential_TP')['gt_id'].unique()\n",
    "    unmatched_gt_ids = [c for c in joined['gt_id'].unique() if c not in matched_gt_ids]\n",
    "\n",
    "    # Get numbers of each type\n",
    "    TP = len(tp_pred_ids)\n",
    "    FP = len(fp_pred_ids)\n",
    "    FN = len(unmatched_gt_ids)\n",
    "    #calc microf1\n",
    "    my_f1_score = TP / (TP + 0.5*(FP+FN))\n",
    "    return my_f1_score"
   ]
  },
  {
   "cell_type": "code",
   "execution_count": 26,
   "id": "2f8926c6",
   "metadata": {
    "execution": {
     "iopub.execute_input": "2022-02-12T10:23:32.804122Z",
     "iopub.status.busy": "2022-02-12T10:23:32.803310Z",
     "iopub.status.idle": "2022-02-12T10:23:32.811618Z",
     "shell.execute_reply": "2022-02-12T10:23:32.810957Z",
     "shell.execute_reply.started": "2022-02-05T13:36:59.474589Z"
    },
    "papermill": {
     "duration": 0.086085,
     "end_time": "2022-02-12T10:23:32.811772",
     "exception": false,
     "start_time": "2022-02-12T10:23:32.725687",
     "status": "completed"
    },
    "tags": []
   },
   "outputs": [],
   "source": [
    "# VALID DATAFRAME\n",
    "valid = train.loc[train['id'].isin(IDS[valid_idx])]"
   ]
  },
  {
   "cell_type": "code",
   "execution_count": 27,
   "id": "a48cb794",
   "metadata": {
    "execution": {
     "iopub.execute_input": "2022-02-12T10:23:32.920880Z",
     "iopub.status.busy": "2022-02-12T10:23:32.919887Z",
     "iopub.status.idle": "2022-02-12T10:23:35.903579Z",
     "shell.execute_reply": "2022-02-12T10:23:35.902972Z",
     "shell.execute_reply.started": "2022-02-05T13:36:59.507117Z"
    },
    "papermill": {
     "duration": 3.041938,
     "end_time": "2022-02-12T10:23:35.903742",
     "exception": false,
     "start_time": "2022-02-12T10:23:32.861804",
     "status": "completed"
    },
    "tags": []
   },
   "outputs": [
    {
     "name": "stdout",
     "output_type": "stream",
     "text": [
      "Lead 0.8063284233496999\n",
      "Position 0.6841560234725578\n",
      "Claim 0.6057328285559762\n",
      "Evidence 0.6816788493279887\n",
      "Concluding Statement 0.7827050997782705\n",
      "Counterclaim 0.4854732895970009\n",
      "Rebuttal 0.39030955585464333\n",
      "\n",
      "Overall 0.6337691528480197\n"
     ]
    }
   ],
   "source": [
    "f1s = []\n",
    "CLASSES = oof['class'].unique()\n",
    "for c in CLASSES:\n",
    "    pred_df = oof.loc[oof['class']==c].copy()\n",
    "    gt_df = valid.loc[valid['discourse_type']==c].copy()\n",
    "    f1 = score_feedback_comp(pred_df, gt_df)\n",
    "    print(c,f1)\n",
    "    f1s.append(f1)\n",
    "print()\n",
    "print('Overall',np.mean(f1s))"
   ]
  },
  {
   "cell_type": "markdown",
   "id": "ab7f860a",
   "metadata": {
    "papermill": {
     "duration": 0.052105,
     "end_time": "2022-02-12T10:23:36.007432",
     "exception": false,
     "start_time": "2022-02-12T10:23:35.955327",
     "status": "completed"
    },
    "tags": []
   },
   "source": [
    "# Infer Test Data\n",
    "We will now infer the test data and create a submission. Our CV is 0.633, let's see what our LB is!"
   ]
  },
  {
   "cell_type": "code",
   "execution_count": 28,
   "id": "6f1ad259",
   "metadata": {
    "execution": {
     "iopub.execute_input": "2022-02-12T10:23:36.116649Z",
     "iopub.status.busy": "2022-02-12T10:23:36.115933Z",
     "iopub.status.idle": "2022-02-12T10:23:36.123784Z",
     "shell.execute_reply": "2022-02-12T10:23:36.123210Z",
     "shell.execute_reply.started": "2022-02-05T13:37:01.727352Z"
    },
    "papermill": {
     "duration": 0.064401,
     "end_time": "2022-02-12T10:23:36.123924",
     "exception": false,
     "start_time": "2022-02-12T10:23:36.059523",
     "status": "completed"
    },
    "tags": []
   },
   "outputs": [
    {
     "name": "stdout",
     "output_type": "stream",
     "text": [
      "There are 5 test texts.\n"
     ]
    }
   ],
   "source": [
    "# GET TEST TEXT IDS\n",
    "files = os.listdir('../input/feedback-prize-2021/test')\n",
    "TEST_IDS = [f.replace('.txt','') for f in files if 'txt' in f]\n",
    "print('There are',len(TEST_IDS),'test texts.')"
   ]
  },
  {
   "cell_type": "code",
   "execution_count": 29,
   "id": "f15d6fe3",
   "metadata": {
    "execution": {
     "iopub.execute_input": "2022-02-12T10:23:36.236889Z",
     "iopub.status.busy": "2022-02-12T10:23:36.236149Z",
     "iopub.status.idle": "2022-02-12T10:23:36.276368Z",
     "shell.execute_reply": "2022-02-12T10:23:36.276975Z",
     "shell.execute_reply.started": "2022-02-05T13:37:01.739534Z"
    },
    "papermill": {
     "duration": 0.101086,
     "end_time": "2022-02-12T10:23:36.277158",
     "exception": false,
     "start_time": "2022-02-12T10:23:36.176072",
     "status": "completed"
    },
    "tags": []
   },
   "outputs": [],
   "source": [
    "# CONVERT TEST TEXT TO TOKENS\n",
    "test_tokens = np.zeros((len(TEST_IDS),MAX_LEN), dtype='int32')\n",
    "test_attention = np.zeros((len(TEST_IDS),MAX_LEN), dtype='int32')\n",
    "\n",
    "for id_num in range(len(TEST_IDS)):\n",
    "        \n",
    "    # READ TRAIN TEXT, TOKENIZE, AND SAVE IN TOKEN ARRAYS    \n",
    "    n = TEST_IDS[id_num]\n",
    "    name = f'../input/feedback-prize-2021/test/{n}.txt'\n",
    "    txt = open(name, 'r').read()\n",
    "    tokens = tokenizer.encode_plus(txt, max_length=MAX_LEN, padding='max_length',\n",
    "                                   truncation=True, return_offsets_mapping=True)\n",
    "    test_tokens[id_num,] = tokens['input_ids']\n",
    "    test_attention[id_num,] = tokens['attention_mask']"
   ]
  },
  {
   "cell_type": "code",
   "execution_count": 30,
   "id": "5d17987a",
   "metadata": {
    "execution": {
     "iopub.execute_input": "2022-02-12T10:23:36.386648Z",
     "iopub.status.busy": "2022-02-12T10:23:36.385576Z",
     "iopub.status.idle": "2022-02-12T10:23:37.050655Z",
     "shell.execute_reply": "2022-02-12T10:23:37.051381Z",
     "shell.execute_reply.started": "2022-02-05T13:37:01.786195Z"
    },
    "papermill": {
     "duration": 0.722891,
     "end_time": "2022-02-12T10:23:37.051583",
     "exception": false,
     "start_time": "2022-02-12T10:23:36.328692",
     "status": "completed"
    },
    "tags": []
   },
   "outputs": [
    {
     "name": "stdout",
     "output_type": "stream",
     "text": [
      "1/1 - 1s\n",
      "Test predictions shape: (5, 1024, 15)\n"
     ]
    }
   ],
   "source": [
    "# INFER TEST TEXTS\n",
    "p = model.predict([test_tokens, test_attention], \n",
    "                  batch_size=16, verbose=2)\n",
    "print('Test predictions shape:',p.shape)\n",
    "test_preds = np.argmax(p,axis=-1)"
   ]
  },
  {
   "cell_type": "markdown",
   "id": "fbc1f5d0",
   "metadata": {
    "papermill": {
     "duration": 0.064133,
     "end_time": "2022-02-12T10:23:37.168715",
     "exception": false,
     "start_time": "2022-02-12T10:23:37.104582",
     "status": "completed"
    },
    "tags": []
   },
   "source": [
    "# Write Submission CSV"
   ]
  },
  {
   "cell_type": "code",
   "execution_count": 31,
   "id": "8cad70f9",
   "metadata": {
    "execution": {
     "iopub.execute_input": "2022-02-12T10:23:37.281715Z",
     "iopub.status.busy": "2022-02-12T10:23:37.280610Z",
     "iopub.status.idle": "2022-02-12T10:23:37.373185Z",
     "shell.execute_reply": "2022-02-12T10:23:37.373779Z",
     "shell.execute_reply.started": "2022-02-05T13:37:02.425988Z"
    },
    "papermill": {
     "duration": 0.154661,
     "end_time": "2022-02-12T10:23:37.373952",
     "exception": false,
     "start_time": "2022-02-12T10:23:37.219291",
     "status": "completed"
    },
    "tags": []
   },
   "outputs": [
    {
     "data": {
      "text/html": [
       "<div>\n",
       "<style scoped>\n",
       "    .dataframe tbody tr th:only-of-type {\n",
       "        vertical-align: middle;\n",
       "    }\n",
       "\n",
       "    .dataframe tbody tr th {\n",
       "        vertical-align: top;\n",
       "    }\n",
       "\n",
       "    .dataframe thead th {\n",
       "        text-align: right;\n",
       "    }\n",
       "</style>\n",
       "<table border=\"1\" class=\"dataframe\">\n",
       "  <thead>\n",
       "    <tr style=\"text-align: right;\">\n",
       "      <th></th>\n",
       "      <th>id</th>\n",
       "      <th>class</th>\n",
       "      <th>predictionstring</th>\n",
       "    </tr>\n",
       "  </thead>\n",
       "  <tbody>\n",
       "    <tr>\n",
       "      <th>0</th>\n",
       "      <td>0FB0700DAF44</td>\n",
       "      <td>Lead</td>\n",
       "      <td>0 1 2 3 4 5 6 7 8 9 10 11 12 13 14 15 16 17 18...</td>\n",
       "    </tr>\n",
       "    <tr>\n",
       "      <th>1</th>\n",
       "      <td>0FB0700DAF44</td>\n",
       "      <td>Position</td>\n",
       "      <td>41 42 43 44 45 46 47</td>\n",
       "    </tr>\n",
       "    <tr>\n",
       "      <th>2</th>\n",
       "      <td>0FB0700DAF44</td>\n",
       "      <td>Claim</td>\n",
       "      <td>66 67 68 69 70 71 72 73 74 75 76 77 78 79 80 8...</td>\n",
       "    </tr>\n",
       "    <tr>\n",
       "      <th>3</th>\n",
       "      <td>0FB0700DAF44</td>\n",
       "      <td>Evidence</td>\n",
       "      <td>120 121 122 123 124 125 126 127 128 129 130 13...</td>\n",
       "    </tr>\n",
       "    <tr>\n",
       "      <th>4</th>\n",
       "      <td>0FB0700DAF44</td>\n",
       "      <td>Claim</td>\n",
       "      <td>196 197 198 199 200 201 202 203 204 205 206 20...</td>\n",
       "    </tr>\n",
       "  </tbody>\n",
       "</table>\n",
       "</div>"
      ],
      "text/plain": [
       "             id     class                                   predictionstring\n",
       "0  0FB0700DAF44      Lead  0 1 2 3 4 5 6 7 8 9 10 11 12 13 14 15 16 17 18...\n",
       "1  0FB0700DAF44  Position                               41 42 43 44 45 46 47\n",
       "2  0FB0700DAF44     Claim  66 67 68 69 70 71 72 73 74 75 76 77 78 79 80 8...\n",
       "3  0FB0700DAF44  Evidence  120 121 122 123 124 125 126 127 128 129 130 13...\n",
       "4  0FB0700DAF44     Claim  196 197 198 199 200 201 202 203 204 205 206 20..."
      ]
     },
     "execution_count": 31,
     "metadata": {},
     "output_type": "execute_result"
    }
   ],
   "source": [
    "# GET TEST PREDICIONS\n",
    "sub = get_preds( dataset='test', verbose=False, text_ids=TEST_IDS, preds=test_preds )\n",
    "sub.head()"
   ]
  },
  {
   "cell_type": "code",
   "execution_count": 32,
   "id": "9d5312eb",
   "metadata": {
    "execution": {
     "iopub.execute_input": "2022-02-12T10:23:37.485796Z",
     "iopub.status.busy": "2022-02-12T10:23:37.484697Z",
     "iopub.status.idle": "2022-02-12T10:23:37.491020Z",
     "shell.execute_reply": "2022-02-12T10:23:37.490484Z",
     "shell.execute_reply.started": "2022-02-05T13:37:02.512775Z"
    },
    "papermill": {
     "duration": 0.065349,
     "end_time": "2022-02-12T10:23:37.491170",
     "exception": false,
     "start_time": "2022-02-12T10:23:37.425821",
     "status": "completed"
    },
    "tags": []
   },
   "outputs": [],
   "source": [
    "# WRITE SUBMISSION CSV\n",
    "sub.to_csv('submission.csv',index=False)"
   ]
  }
 ],
 "metadata": {
  "kernelspec": {
   "display_name": "Python 3",
   "language": "python",
   "name": "python3"
  },
  "language_info": {
   "codemirror_mode": {
    "name": "ipython",
    "version": 3
   },
   "file_extension": ".py",
   "mimetype": "text/x-python",
   "name": "python",
   "nbconvert_exporter": "python",
   "pygments_lexer": "ipython3",
   "version": "3.7.12"
  },
  "papermill": {
   "default_parameters": {},
   "duration": 340.944538,
   "end_time": "2022-02-12T10:23:40.574610",
   "environment_variables": {},
   "exception": null,
   "input_path": "__notebook__.ipynb",
   "output_path": "__notebook__.ipynb",
   "parameters": {},
   "start_time": "2022-02-12T10:17:59.630072",
   "version": "2.3.3"
  }
 },
 "nbformat": 4,
 "nbformat_minor": 5
}
